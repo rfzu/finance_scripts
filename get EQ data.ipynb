{
 "cells": [
  {
   "cell_type": "code",
   "execution_count": null,
   "metadata": {
    "collapsed": true
   },
   "outputs": [],
   "source": [
    "import pandas as pd\n",
    "from urllib.request import urlopen\n",
    "from bs4 import BeautifulSoup\n",
    "import re"
   ]
  },
  {
   "cell_type": "code",
   "execution_count": null,
   "metadata": {
    "collapsed": true
   },
   "outputs": [],
   "source": [
    "data = pd.read_csv('ListingSecurityList.csv', error_bad_lines=False, sep = ';')"
   ]
  },
  {
   "cell_type": "code",
   "execution_count": null,
   "metadata": {
    "collapsed": true
   },
   "outputs": [],
   "source": [
    "eqs = data[data.s_sec_type_name_dop == 'Акции']"
   ]
  },
  {
   "cell_type": "code",
   "execution_count": null,
   "metadata": {
    "collapsed": true
   },
   "outputs": [],
   "source": [
    "url = start_url + 'AA'\n",
    "html = urlopen(url)\n",
    "bsObj = BeautifulSoup(html.read(), \"lxml\")\n",
    "\n",
    "# print(bsObj.prettify())"
   ]
  },
  {
   "cell_type": "code",
   "execution_count": null,
   "metadata": {},
   "outputs": [],
   "source": [
    "# for i, n in enumerate(bsObj.findAll(\"td\")):\n",
    "#     print(i)\n",
    "#     print(n.text)"
   ]
  },
  {
   "cell_type": "code",
   "execution_count": null,
   "metadata": {
    "collapsed": true
   },
   "outputs": [],
   "source": [
    "#depricated\n",
    "def get_data_google(url):\n",
    "    result = {}\n",
    "    html = urlopen(url)\n",
    "    bsObj = BeautifulSoup(html.read(), \"lxml\")\n",
    "    for snap in bsObj.find_all(\"table\", {\"class\":\"snap-data\"}):\n",
    "        for trs in snap.find_all(\"tr\"):\n",
    "            name = trs.find('td',{'class':'key'}).text\n",
    "            name = re.sub('\\n','',name)\n",
    "            value = trs.find('td',{'class':'val'}).text\n",
    "            value = re.sub('\\n','',value)\n",
    "            result[name] = value\n",
    "        result['price'] = re.sub('\\n','',bsObj.find('span',{'class':'pr'}).text)\n",
    "        if bsObj.find('a',{'id':'sector'}):\n",
    "            sector, industry = bsObj.find('div',{'class':'g-section g-tpl-50-50 g-split'}).div.text.split('>')\n",
    "            result['sector'] = re.sub('\\n','',sector)\n",
    "            result['industry'] = re.sub('\\n','',industry)\n",
    "    return result"
   ]
  },
  {
   "cell_type": "code",
   "execution_count": null,
   "metadata": {},
   "outputs": [],
   "source": [
    "# finance.yahoo.com\n",
    "def get_data(url):\n",
    "    result = {}\n",
    "    html = urlopen(url)\n",
    "    bsObj = BeautifulSoup(html.read(), \"lxml\")\n",
    "    for i in range(0,32,2):\n",
    "#         print(i)\n",
    "#         print(bsObj.findAll(\"td\")[i].text)\n",
    "#         print(bsObj.findAll(\"td\")[i+1].text)\n",
    "        result[bsObj.findAll(\"td\")[i].text] = bsObj.findAll(\"td\")[i+1].text\n",
    "    return result"
   ]
  },
  {
   "cell_type": "code",
   "execution_count": null,
   "metadata": {},
   "outputs": [],
   "source": [
    "get_data(start_url + 'AA')"
   ]
  },
  {
   "cell_type": "code",
   "execution_count": null,
   "metadata": {},
   "outputs": [],
   "source": [
    "# start_url = 'https://finance.google.com/finance?q='\n",
    "start_url = 'https://finance.yahoo.com/quote/'\n",
    "\n",
    "for s in eqs.s_RTS_code:\n",
    "    print(s)\n",
    "    url = start_url + s\n",
    "    try:\n",
    "        market_data = get_data(url)\n",
    "#         print(market_data)\n",
    "        for key,value in market_data.items():\n",
    "            if key not in list(data.columns.values):\n",
    "                data[key] = 0\n",
    "            data.loc[data.s_RTS_code == s, key] = value\n",
    "    except:\n",
    "        print('bad')"
   ]
  },
  {
   "cell_type": "code",
   "execution_count": null,
   "metadata": {},
   "outputs": [],
   "source": [
    "data.head()"
   ]
  },
  {
   "cell_type": "code",
   "execution_count": null,
   "metadata": {
    "collapsed": true
   },
   "outputs": [],
   "source": [
    "for name in data.columns[12:26]:\n",
    "    data[name] = data[name].str.replace('.',',')"
   ]
  },
  {
   "cell_type": "code",
   "execution_count": null,
   "metadata": {
    "collapsed": true
   },
   "outputs": [],
   "source": [
    "data.to_csv('result_w_prices20191006.csv', sep=';')"
   ]
  },
  {
   "cell_type": "code",
   "execution_count": null,
   "metadata": {
    "collapsed": true
   },
   "outputs": [],
   "source": []
  }
 ],
 "metadata": {
  "kernelspec": {
   "display_name": "Python 3",
   "language": "python",
   "name": "python3"
  },
  "language_info": {
   "codemirror_mode": {
    "name": "ipython",
    "version": 3
   },
   "file_extension": ".py",
   "mimetype": "text/x-python",
   "name": "python",
   "nbconvert_exporter": "python",
   "pygments_lexer": "ipython3",
   "version": "3.6.3"
  }
 },
 "nbformat": 4,
 "nbformat_minor": 2
}
